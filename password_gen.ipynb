{
 "cells": [
  {
   "cell_type": "code",
   "execution_count": 1,
   "metadata": {},
   "outputs": [],
   "source": [
    "password = '*****************'"
   ]
  },
  {
   "cell_type": "markdown",
   "metadata": {},
   "source": [
    "\n",
    "perm = {\n",
    "    0: ['q', 'w', 's', 'a'],\n",
    "    1: ['p', 'o', 'k'],\n",
    "    2: ['p', 'o', 'k'],\n",
    "    4: ['o', 'O', 'l'],\n",
    "    5: ['w', 's', 'd', '3'],\n",
    "    6: ['i', 'k', 'l', 'p'],\n",
    "    11: ['q', 'a', 's' , 'd', '2'],\n",
    "    12: ['u', 'j', 'k'],\n",
    "    16: ['v', 'h', 'n', ' '],\n",
    "    20: ['b', 'k', 'u', ' '],\n",
    "    21: ['r', 'g', '5', 'y'],\n",
    "    23: ['e', 'd', 't', '4'],\n",
    "    26: ['f' ,'t', 'h'],\n",
    "    30: ['s', 'f', 'x']   \n",
    "    \n",
    "}"
   ]
  },
  {
   "cell_type": "markdown",
   "metadata": {},
   "source": [
    "## Character by charter permutations"
   ]
  },
  {
   "cell_type": "code",
   "execution_count": 5,
   "metadata": {
    "scrolled": false
   },
   "outputs": [
    {
     "data": {
      "text/plain": [
       "{0: ['q', 'w', 's', 'a', 'A', 'Q', 'W', 'S', ''],\n",
       " 1: ['p', 'o', 'k', 'l', 'P', 'O', 'K', 'L', ''],\n",
       " 2: ['p', 'o', 'k', 'l', 'P', 'O', 'K', 'L', ''],\n",
       " 4: ['o', 'O', 'l', 'p', 'L', 'P', ''],\n",
       " 5: ['w', 's', 'd', '3', 'e', 'W', 'S', 'D', 'E', ''],\n",
       " 6: ['i', 'k', 'l', 'p', 'o', 'I', 'K', 'L', 'P', 'O', ''],\n",
       " 11: ['q', 'a', 's', 'd', '2', 'w', 'Q', 'A', 'S', 'D', 'W', ''],\n",
       " 12: ['u', 'j', 'k', 'i', 'U', 'J', 'K', 'I', ''],\n",
       " 16: ['v', 'h', 'n', ' ', 'b', 'V', 'H', 'N', 'B', ''],\n",
       " 20: ['b', 'k', 'u', ' ', 'n', 'B', 'K', 'U', 'N', ''],\n",
       " 21: ['r', 'g', '5', 'y', 't', 'R', 'G', 'Y', 'T', ''],\n",
       " 23: ['e', 'd', 't', '4', 'r', 'E', 'D', 'T', 'R', ''],\n",
       " 26: ['f', 't', 'h', 'g', 'F', 'T', 'H', 'G', ''],\n",
       " 30: ['s', 'f', 'x', 'd', 'S', 'F', 'X', 'D', '']}"
      ]
     },
     "execution_count": 5,
     "metadata": {},
     "output_type": "execute_result"
    }
   ],
   "source": [
    "# What needs to be permutated\n",
    "perm = {\n",
    "    0: ['q', 'w', 's', 'a'],\n",
    "    1: ['p', 'o', 'k'],\n",
    "    2: ['p', 'o', 'k'],\n",
    "    4: ['o', 'O', 'l'],\n",
    "    5: ['w', 's', 'd', '3'],\n",
    "    6: ['i', 'k', 'l', 'p'],\n",
    "    11: ['q', 'a', 's' , 'd', '2'],\n",
    "    12: ['u', 'j', 'k'],\n",
    "    16: ['v', 'h', 'n', ' '],\n",
    "    20: ['b', 'k', 'u', ' '],\n",
    "    21: ['r', 'g', '5', 'y'],\n",
    "    23: ['e', 'd', 't', '4'],\n",
    "    26: ['f' ,'t', 'h'],\n",
    "    30: ['s', 'f', 'x']   \n",
    "    \n",
    "}\n",
    "perms_2 = perm\n",
    "for i in perm.keys():\n",
    "    perms_2[i].append(password[i])\n",
    "    perms_2[i] = perms_2[i] + [j.upper() for j in perms_2[i] if j.upper() not in perms_2[i]]\n",
    "    perms_2[i].append('')\n",
    "    \n",
    "    \n",
    "perms_2"
   ]
  },
  {
   "cell_type": "code",
   "execution_count": 29,
   "metadata": {},
   "outputs": [],
   "source": [
    "def replace_at(text, pos, char):\n",
    "    f = text[:pos] + char + text[pos+1:]\n",
    "    return f"
   ]
  },
  {
   "cell_type": "code",
   "execution_count": 41,
   "metadata": {},
   "outputs": [],
   "source": [
    "# Main part for permutations\n",
    "\n",
    "\n",
    "main_list = list_char\n",
    "PASSWORD_STRING = password\n",
    "\n",
    "file = open('passes.txt', 'w')\n",
    "for i, j in perms_2.items():\n",
    "    for k in range(len(j)):\n",
    "#         print(f'{i}, {k}: {j[k]}:')\n",
    "        n_password = replace_at(password, i, j[k])\n",
    "        for x, y in perms_2.items():\n",
    "            if x == i: continue\n",
    "            for z in range(len(y)):\n",
    "#                 print(f'    {x},{z}:{y[z]}', end=',')\n",
    "                file.write(f'{replace_at(n_password, x, y[z])}\\n')\n",
    "file.close()"
   ]
  },
  {
   "cell_type": "code",
   "execution_count": 45,
   "metadata": {},
   "outputs": [],
   "source": [
    "en_main_list = en_list_char\n",
    "EN_PASSWORD_STRING = en_password\n",
    "\n",
    "file = open('passes.txt', 'a')\n",
    "for i, j in en_permutations.items():\n",
    "    for k in range(len(j)):\n",
    "#         print(f'{i}, {k}: {j[k]}:')\n",
    "        en_n_password = replace_at(en_password, i, j[k])\n",
    "        for x, y in en_permutations.items():\n",
    "            if x == i: continue\n",
    "            for z in range(len(y)):\n",
    "#                 print(f'    {x},{z}:{y[z]}', end=',')\n",
    "                file.write(f'{replace_at(en_n_password, x, y[z])}\\n')\n",
    "file.close()"
   ]
  },
  {
   "cell_type": "markdown",
   "metadata": {},
   "source": [
    "## Permutations of spaces"
   ]
  },
  {
   "cell_type": "code",
   "execution_count": 1,
   "metadata": {
    "scrolled": true
   },
   "outputs": [
    {
     "data": {
      "text/plain": [
       "['***************']"
      ]
     },
     "execution_count": 1,
     "metadata": {},
     "output_type": "execute_result"
    }
   ],
   "source": [
    "spaced_password = '***************'\n",
    "splitted_pass = spaced_password.split()\n",
    "splitted_pass"
   ]
  },
  {
   "cell_type": "code",
   "execution_count": 2,
   "metadata": {},
   "outputs": [
    {
     "ename": "IndentationError",
     "evalue": "unexpected indent (<ipython-input-2-0b63622d3f5a>, line 16)",
     "output_type": "error",
     "traceback": [
      "\u001b[0;36m  File \u001b[0;32m\"<ipython-input-2-0b63622d3f5a>\"\u001b[0;36m, line \u001b[0;32m16\u001b[0m\n\u001b[0;31m    other.write('\\n')\u001b[0m\n\u001b[0m    ^\u001b[0m\n\u001b[0;31mIndentationError\u001b[0m\u001b[0;31m:\u001b[0m unexpected indent\n"
     ]
    }
   ],
   "source": [
    "other = open('other.txt', 'w')\n",
    "list_char = list(spaced_password)\n",
    "print(list_char)\n",
    "for i in range(len(list_char)):\n",
    "    list_char = list(spaced_password)\n",
    "    if list_char[i] is ' ':\n",
    "        list_char[i] = list_char[i-1]\n",
    "        list_char[i-1] = ' '\n",
    "        other.write(''.join(list_char))\n",
    "        other.write('\\n')\n",
    "        list_char = list(spaced_password)\n",
    "        list_char[i] = list_char[i+1]\n",
    "        list_char[i+1] = ' '\n",
    "b\n",
    "other.write(''.join(list_char))\n",
    "        other.write('\\n')\n",
    "        \n",
    "other.close()"
   ]
  },
  {
   "cell_type": "markdown",
   "metadata": {},
   "source": [
    "## Permutations of a word in a phrase"
   ]
  },
  {
   "cell_type": "code",
   "execution_count": 4,
   "metadata": {},
   "outputs": [],
   "source": [
    "def permuatate(input):\n",
    "    v = list(input)\n",
    "    a_list = []\n",
    "    for k in range(1, len(v)):\n",
    "        v = list(input)\n",
    "        v[k], v[k-1] = v[k-1], v[k]\n",
    "        a_list.append(''.join(v))\n",
    "    return(a_list)"
   ]
  },
  {
   "cell_type": "code",
   "execution_count": 5,
   "metadata": {},
   "outputs": [
    {
     "data": {
      "text/plain": [
       "['&*']"
      ]
     },
     "execution_count": 5,
     "metadata": {},
     "output_type": "execute_result"
    }
   ],
   "source": [
    "permuatate('*&')"
   ]
  },
  {
   "cell_type": "code",
   "execution_count": 136,
   "metadata": {},
   "outputs": [],
   "source": [
    "file_2 = open('permutation.txt', 'w')\n",
    "\n",
    "\n",
    "for word in [1, 4]:\n",
    "    for x in permuatate(splitted_pass[word]):\n",
    "        t = '{} {} {}'.format(' '.join(splitted_pass[:word]), x, ' '.join(splitted_pass[word+1:]))\n",
    "\n",
    "        file_2.write(t)\n",
    "        file_2.write('\\n')\n",
    "        \n",
    "file_2.close()"
   ]
  }
 ],
 "metadata": {
  "kernelspec": {
   "display_name": "Python 3",
   "language": "python",
   "name": "python3"
  },
  "language_info": {
   "codemirror_mode": {
    "name": "ipython",
    "version": 3
   },
   "file_extension": ".py",
   "mimetype": "text/x-python",
   "name": "python",
   "nbconvert_exporter": "python",
   "pygments_lexer": "ipython3",
   "version": "3.7.10"
  }
 },
 "nbformat": 4,
 "nbformat_minor": 4
}
